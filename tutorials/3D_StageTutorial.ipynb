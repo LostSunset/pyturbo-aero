{
 "cells": [
  {
   "cell_type": "markdown",
   "metadata": {},
   "source": [
    "# 3D Stage design\n",
    "A turbine or compressor stage consists of stator-rotor pairs or rotor-rotor pairs. You can chain together multiple stages to design the entire Turbine using this code. Also control the space between the blade rows. "
   ]
  },
  {
   "cell_type": "markdown",
   "metadata": {},
   "source": [
    "For the purpose of this tutorial. Airfoils are 2D and Blades are 3D and made up of airfoils.\n",
    "\n",
    "> __Note__: The 1D design of a Turbine or compressor is absolutely critical and must not be overlooked. 3D design optimization without changing the inlet and exit flow angles (Velocity triangles) can result in 1-2% efficiency improvement. **Greater improvements can be achieved by optimizing the 1D.**"
   ]
  },
  {
   "cell_type": "markdown",
   "metadata": {},
   "source": [
    "## Creating a Stator Blade\n",
    "Stator are non-rotating. The purpose of the stator is to guide the flow into the rotor in such a way that maximizes the power and efficiency. The design is govern by the velocity triangles found using 1D design or streamline design approach.\n",
    "\n"
   ]
  },
  {
   "cell_type": "markdown",
   "metadata": {},
   "source": [
    "## Creating a Rotor Blade "
   ]
  }
 ],
 "metadata": {
  "kernelspec": {
   "display_name": "Python 3.10.6 64-bit",
   "language": "python",
   "name": "python3"
  },
  "language_info": {
   "name": "python",
   "version": "3.10.6"
  },
  "orig_nbformat": 4,
  "vscode": {
   "interpreter": {
    "hash": "b0fa6594d8f4cbf19f97940f81e996739fb7646882a419484c72d19e05852a7e"
   }
  }
 },
 "nbformat": 4,
 "nbformat_minor": 2
}
