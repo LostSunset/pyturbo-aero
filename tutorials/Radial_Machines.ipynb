{
 "cells": [
  {
   "cell_type": "markdown",
   "metadata": {},
   "source": [
    "# Creating a Radial Turbine/Compressor using PyTurbo-Aero\n",
    "In this example we will build a simple geometry using PyTurbo-Aero with the intent of simulating with tools such as Numeca or ADS. We'll go over some of the settings required to generated the points in X-R-Theta coordinate system and the theory surrounding m' (m-prime), a non-dimensional coordinate system to visualize 2D turbomachinery blades.\n"
   ]
  },
  {
   "cell_type": "markdown",
   "metadata": {},
   "source": [
    "## Theory\n",
    "\n",
    "Radial machines look a bit strange, the blades are wrapped around an axis. It's often not easy to visualize what each blade cut looks like. We can visualize this in the m' space. M' is the non-dimensional length in the meridional direction so the direction of x-r. Codes such as T-Blade 3 or Mises uses m' to represent a 3D design. \n",
    "\n",
    "![radial compressor](./_static/radilal-compressor.jpeg)\n",
    "\n",
    "\n",
    "The equation for m' is below\n",
    "$$\n",
    "m' = \\int \\frac{\\sqrt{dx^2+dr^2}}{r}\n",
    "$$\n",
    "\n",
    "Note that this integral is with respect to both dx and dr. It can be thought of as the distance along both x and r normalized by the radius. A more simplier representation is:\n",
    "\n",
    "$$\n",
    "r_i = \\sqrt{x^{2}_i+y^{2}_i}\n",
    "$$\n",
    "\n",
    "$$\n",
    "m'_i = m'_{i-1} + \\frac{2}{r_i+r_{i-1}} \\sqrt{(r_i-r_{i-1})^2 + {x_i-x_{i-1}^2}}\n",
    "$$\n",
    "\n",
    "This is similar to one of those trapezodial integrations where you are summing the previous m' with the currently one divided it by the average radius\n",
    "\n",
    "> Note: M' at the hub is not the same as mid or tip. It is also not between 0 to 1 either. It's useful for designing the blade profiles in **m',$\\theta$** however x,r have to be backed out. The code for centrif approximates m' as a function **f(t,m')** where t goes from 0 to 1. The significance of this is for each t value there's a value of x and r.\n",
    "\n",
    "# Citations\n",
    "[Mises Manual](https://web.mit.edu/drela/Public/web/mises/mises.pdf)\n",
    "\n",
    "\n"
   ]
  },
  {
   "cell_type": "code",
   "execution_count": null,
   "metadata": {},
   "outputs": [],
   "source": [
    "## Install PyTurbo\n",
    "!pip install pyturbo-aero\n",
    "!pip install ipympl"
   ]
  },
  {
   "cell_type": "markdown",
   "metadata": {},
   "source": [
    "## Radial Turbine Example\n"
   ]
  },
  {
   "cell_type": "markdown",
   "metadata": {},
   "source": []
  },
  {
   "cell_type": "code",
   "execution_count": null,
   "metadata": {},
   "outputs": [],
   "source": [
    "from pyturbo.aero import Centrif, CentrifProfile, TrailingEdgeProperties\n",
    "from pyturbo.helper import arc\n",
    "import numpy as np\n",
    "import numpy.typing as npt \n",
    "import matplotlib.pyplot as plt\n",
    "%matplotlib widget\n",
    "\n",
    "\n",
    "def build_endwalls(radius:float,inlet_hub_shroud_ratio:float,outlet_hub_shroud_ratio:float,x_stretch_factor:float, rhub_out:float):\n",
    "    shroud = arc(xc=0,yc=0,radius=radius,alpha_start=180,alpha_stop=270)\n",
    "    hub = arc(xc=0,yc=0,radius=radius/inlet_hub_shroud_ratio,alpha_start=180,alpha_stop=270)\n",
    "\n",
    "    [xhub,rhub] = hub.get_point(np.linspace(0,1,100))\n",
    "    [xshroud,rshroud] = shroud.get_point(np.linspace(0,1,100))\n",
    "\n",
    "    rhub = rhub/outlet_hub_shroud_ratio\n",
    "    xhub*=x_stretch_factor\n",
    "    xshroud*=x_stretch_factor\n",
    "    \n",
    "    hub = np.vstack([xhub,rhub]).transpose()\n",
    "    shroud = np.vstack([xshroud, rshroud]).transpose()\n",
    "    shroud[:,1] += -hub[:,1].min() + rhub_out\n",
    "    hub[:,1] += -hub[:,1].min() + rhub_out\n",
    "    xshroud += -xhub.min()\n",
    "    xhub += -xhub.min()\n",
    "    return hub,shroud\n",
    "\n",
    "def compute_normals(x:npt.NDArray, y:npt.NDArray):\n",
    "    # Compute first derivatives\n",
    "    dx = np.gradient(x)\n",
    "    dy = np.gradient(y)\n",
    "    \n",
    "    # Compute normal vectors (perpendicular to tangent)\n",
    "    length = np.hypot(dx, dy)\n",
    "    nx = -dy / length\n",
    "    ny = dx / length\n",
    "    \n",
    "    return nx, ny\n",
    "\n",
    "def offset_curve(x:npt.NDArray, y:npt.NDArray, offset_distance:float):\n",
    "    nx, ny = compute_normals(x, y)\n",
    "\n",
    "    # Offset points along the normal direction\n",
    "    x_offset = x + offset_distance * nx\n",
    "    y_offset = y + offset_distance * ny\n",
    "    \n",
    "    return x_offset, y_offset"
   ]
  },
  {
   "cell_type": "code",
   "execution_count": null,
   "metadata": {},
   "outputs": [],
   "source": [
    "radius = 0.04 # meters\n",
    "inlet_hub_shroud_ratio = 0.85\n",
    "outlet_hub_shroud_ratio = 0.8\n",
    "x_stretch_factor=1.1\n",
    "rhub_out = 0.009 # meters "
   ]
  },
  {
   "cell_type": "code",
   "execution_count": null,
   "metadata": {},
   "outputs": [],
   "source": [
    "hub1,shroud1 = build_endwalls(radius=radius,\n",
    "                                inlet_hub_shroud_ratio=inlet_hub_shroud_ratio,outlet_hub_shroud_ratio=outlet_hub_shroud_ratio,\n",
    "                                x_stretch_factor=x_stretch_factor,rhub_out=rhub_out)\n",
    "hub2 = offset_curve(hub1[:,0],hub1[:,1],-radius*0.02)\n",
    "shroud2 = offset_curve(shroud1[:,0],shroud1[:,1],radius*0.02)    \n",
    "hub2 = np.vstack(hub2).transpose()\n",
    "shroud2 = np.vstack(shroud2).transpose()\n",
    "\n",
    "# Lets see what it looks like \n",
    "plt.figure(num=1,clear=True, dpi=150)\n",
    "plt.plot(hub1[:,0],hub1[:,1],'k',linewidth=1.5,label='hub-1')\n",
    "plt.plot(shroud1[:,0],shroud1[:,1],'k',linewidth=1.5,label='shroud-1')\n",
    "plt.plot(hub2[:,0],hub2[:,1],'m',linewidth=1.5,label='hub-2')\n",
    "plt.plot(shroud2[:,0],shroud2[:,1],'m',linewidth=1.5,label='shroud-2')\n",
    "plt.xlabel('x-axial')\n",
    "plt.ylabel('radius')\n",
    "plt.axis('equal')\n",
    "plt.legend()\n",
    "plt.show()\n",
    "# Note: We are designing for the purple curve however it is cut by the black curve. Black curve is the real hub and shroud. We need to do it like this for CFD mesh generators to find a cut surface. \n",
    "\n",
    "# Think of it as oversizing the blade and trimming it with the black curve. "
   ]
  },
  {
   "cell_type": "code",
   "execution_count": null,
   "metadata": {},
   "outputs": [],
   "source": [
    "cen = Centrif(blade_position=(0.0,1.0),use_mid_wrap_angle=True,\n",
    "                  use_bezier_thickness=True,\n",
    "                  use_ray_camber=True)\n",
    "cen.add_hub(hub2[:,0],hub2[:,1])\n",
    "cen.add_shroud(shroud2[:,0],shroud2[:,1])\n",
    "\n",
    "TE_Cut = False\n",
    "te_props = TrailingEdgeProperties(TE_Cut=TE_Cut,TE_Radius=0.06)\n",
    "hub = CentrifProfile(percent_span=0,LE_Thickness=0.06,\n",
    "                              trailing_edge_properties=te_props,\n",
    "                              LE_Metal_Angle=0,\n",
    "                              TE_Metal_Angle=60,\n",
    "                              LE_Metal_Angle_Loc=0.2,\n",
    "                              TE_Metal_Angle_Loc=0.8,\n",
    "                              ss_thickness=[0.05,0.05,0.05],\n",
    "                              ps_thickness=[0.05,0.05,0.05],\n",
    "                              wrap_angle=20, # this doesn't matter if you set use_mid_angle_wrap=True\n",
    "                              wrap_displacements=[0,0], \n",
    "                              wrap_displacement_locs=[0,0])\n",
    "mid = hub\n",
    "mid.percent_span = 0.5\n",
    "tip = hub \n",
    "tip.percent_span = 1.0 \n",
    "\n",
    "cen.add_profile(hub)\n",
    "cen.add_profile(mid)\n",
    "cen.add_profile(tip)\n",
    "\n",
    "cen.build(npts_span=10, npts_chord=100,nblades=7)\n",
    "# s_c_b2b,_ = cen.pitch_to_chord()\n",
    "    "
   ]
  },
  {
   "cell_type": "code",
   "execution_count": null,
   "metadata": {},
   "outputs": [],
   "source": [
    "# Plotting the camberline\n",
    "cen.plot_camber()"
   ]
  },
  {
   "cell_type": "code",
   "execution_count": null,
   "metadata": {},
   "outputs": [],
   "source": [
    "# Plot the mprime\n",
    "cen.plot_mp_profile()\n"
   ]
  },
  {
   "cell_type": "code",
   "execution_count": null,
   "metadata": {},
   "outputs": [],
   "source": [
    "# Plot 3D single blade\n",
    "cen.plot()"
   ]
  },
  {
   "cell_type": "code",
   "execution_count": null,
   "metadata": {},
   "outputs": [],
   "source": [
    "# Plot full wheel\n",
    "cen.plot_fullwheel()"
   ]
  }
 ],
 "metadata": {
  "language_info": {
   "name": "python"
  }
 },
 "nbformat": 4,
 "nbformat_minor": 2
}
